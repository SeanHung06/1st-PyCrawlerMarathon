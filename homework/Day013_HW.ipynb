{
 "cells": [
  {
   "cell_type": "markdown",
   "metadata": {},
   "source": [
    "# PTT 網路爬蟲實作練習\n",
    "\n",
    "\n",
    "* 能夠利用 Request + BeatifulSour 撰寫爬蟲，並存放到合適的資料結構\n"
   ]
  },
  {
   "cell_type": "markdown",
   "metadata": {},
   "source": [
    "## 作業目標\n",
    "\n",
    "根據範例 ，完成以下問題：\n",
    "\n",
    "* ① 印出最新文章的「作者」「標題」「時間」\n",
    "* ② 印出第一頁所有文章的「作者」「標題」「時間」\n"
   ]
  },
  {
   "cell_type": "markdown",
   "metadata": {},
   "source": [
    "### ① 印出最新文章的「作者」「標題」「時間」"
   ]
  },
  {
   "cell_type": "code",
   "execution_count": 82,
   "metadata": {},
   "outputs": [
    {
     "name": "stdout",
     "output_type": "stream",
     "text": [
      "{'標題': '[新聞] 暴龍團隊攻勢均衡 力壓76人奪5連勝', '作者': 'phoenix286 (糰子大家族)', '時間': 'Thu Jan 23 12:42:59 2020'}\n"
     ]
    }
   ],
   "source": [
    "posts = []\n",
    "\n",
    "import requests\n",
    "from bs4 import BeautifulSoup\n",
    "\n",
    "url = 'https://www.ptt.cc/bbs/NBA/index.html'\n",
    "r = requests.get(url)\n",
    "\n",
    "soup = BeautifulSoup(r.text, \"html5lib\")\n",
    "\n",
    "for d in soup.find_all(class_=\"title\"):\n",
    "    try :\n",
    "        post = {}\n",
    "        post['標題']  = d.text.replace('\\t', '').replace('\\n', '')\n",
    "        r = BeautifulSoup(requests.get('https://www.ptt.cc'+d.find('a')['href']).text, \"html5lib\")\n",
    "        post['作者']  = r.find(class_='article-meta-value').text\n",
    "        post['時間']  = r.find_all(class_='article-meta-value')[-1].text\n",
    "\n",
    "        posts.append(post)\n",
    "    except:\n",
    "        continue\n",
    "        \n",
    "post = sorted(posts , key = lambda post : post['時間'] , reverse = True)\n",
    "\n",
    "print(posts[0])\n",
    "\n"
   ]
  },
  {
   "cell_type": "markdown",
   "metadata": {},
   "source": [
    "### ② 印出第一頁所有文章的「作者」「標題」「時間」"
   ]
  },
  {
   "cell_type": "code",
   "execution_count": 60,
   "metadata": {},
   "outputs": [
    {
     "name": "stdout",
     "output_type": "stream",
     "text": [
      "[BOX ] Pacers 112:87 Suns 數據\n",
      "[新聞] 暴龍團隊攻勢均衡 力壓76人奪5連勝\n",
      "作者： phoenix286 (糰子大家族)\n",
      "時間： Thu Jan 23 12:42:59 2020\n",
      "[BOX ] Spurs 121:117 Pelicans 數據\n",
      "[情報] Zion創下20年來新秀單節最高得分紀錄\n",
      "作者： ghost069 (阿鬼)\n",
      "時間： Thu Jan 23 13:04:14 2020\n",
      "[情報] Zion 在第四節連拿17分(影片)\n",
      "作者： melman87 (長頸男)\n",
      "時間： Thu Jan 23 13:06:54 2020\n",
      "[BOX ] Jazz 129:96 Warriors 數據\n",
      "(已被Vedan刪除) <ek965fd8>1-1 1-2\n",
      "[情報] Brown：我們需要投進三分球\n",
      "作者： andy82116 (鯊魚吃魚翅)\n",
      "時間： Thu Jan 23 13:37:14 2020\n",
      "[新聞] 威廉森處女秀砍22分 艾德里奇領軍勝鵜鶘\n",
      "作者： Israfil (贖罪聖音)\n",
      "時間： Thu Jan 23 13:40:58 2020\n",
      "[情報] 同樣是狀元！蔡恩本賽季三分已超西蒙斯\n",
      "作者： PttGod (PttGod)\n",
      "時間： Thu Jan 23 13:41:58 2020\n",
      "[討論] Walton要下課了嗎\n",
      "作者： humbler (獸人H)\n",
      "時間： Thu Jan 23 13:47:52 2020\n",
      "[討論] Zion要怎麼防\n",
      "作者： luganzhin (luganzhin)\n",
      "時間： Thu Jan 23 14:06:18 2020\n",
      "[情報] Walker:我希望隊友成功 想讓他們提高水平\n",
      "作者： Myosotis (・8・)\n",
      "時間： Thu Jan 23 14:14:49 2020\n",
      "[情報] NBA Standings (Jan. 23, 2020)\n",
      "作者： a78998042a (Benjimin)\n",
      "時間： Thu Jan 23 14:37:42 2020\n",
      "[外絮] Gentry:要不是被告知 我是不會換下Zion的\n",
      "作者： pneumo (超☆冒險蓋)\n",
      "時間： Thu Jan 23 15:03:44 2020\n",
      "Re: [討論] Zion要怎麼防\n",
      "作者： hass231470 ()\n",
      "時間： Thu Jan 23 15:27:37 2020\n",
      "[討論] 大家給Zion初解禁打幾分？\n",
      "作者： Ayanami5566 (綾波五六)\n",
      "時間： Thu Jan 23 15:44:06 2020\n",
      "[情報] VC 總得分史上第19\n",
      "作者： fukawa947 (交大薛之謙)\n",
      "時間： Thu Jan 23 16:03:58 2020\n",
      "(本文已被刪除) [ghost069]\n",
      "[情報] 嘴綠回嗆老巴\n",
      "作者： namie810303 (NBA)\n",
      "時間： Thu Jan 23 17:11:17 2020\n",
      "[公告] 板規v6.8\n",
      "[公告] 樂透取消及未來不再開啟樂透\n",
      "作者： Vedan (味丹)\n",
      "時間： Mon Jun 24 15:08:02 2019\n",
      "[公告] 版主上任相關事項 \n",
      "作者： qazwsx879345 (Rajon Rondo)\n",
      "時間： Fri Oct 25 10:44:03 2019\n",
      "[情報] SEASON Schedule 賽程 January 19–20\n",
      "作者： Acetoxy (阿斯)\n",
      "時間： Fri Jan  3 01:37:35 2020\n"
     ]
    }
   ],
   "source": [
    "import requests\n",
    "from bs4 import BeautifulSoup\n",
    "\n",
    "url = 'https://www.ptt.cc/bbs/NBA/index.html'\n",
    "r = requests.get(url)\n",
    "\n",
    "soup = BeautifulSoup(r.text, \"html5lib\")\n",
    "\n",
    "\n",
    "for d in soup.find_all(class_=\"title\"):\n",
    "    print(d.text.replace('\\t', '').replace('\\n', ''))\n",
    "    try:\n",
    "        r = BeautifulSoup(requests.get('https://www.ptt.cc'+d.find('a')['href']).text, \"html5lib\")\n",
    "        print('作者： ' + r.find(class_='article-meta-value').text)\n",
    "        print('時間： ' + r.find_all(class_='article-meta-value')[-1].text)\n",
    "\n",
    "    except:\n",
    "        continue\n"
   ]
  },
  {
   "cell_type": "markdown",
   "metadata": {},
   "source": [
    "### ③ 試著爬爬看其他版的文章"
   ]
  },
  {
   "cell_type": "code",
   "execution_count": 79,
   "metadata": {},
   "outputs": [
    {
     "name": "stdout",
     "output_type": "stream",
     "text": [
      "Re: [新聞] 研究：武漢肺炎病毒「可能來自蛇類」\n",
      "[新聞] 快訊》陸戰機上午飛越巴士海峽 國防部：\n",
      "[爆卦] 繼武漢封城接下來換黃岡市了！\n",
      "[問卦] 有「咬七下還很脆」的掛嗎？\n",
      "[問卦] 有沒有黑死病的八卦\n",
      "Re: [爆卦] 武漢醫院疑似刻意不確診肺炎病患\n",
      "Re: [新聞]  歷任台北市長誰做最好？網友全說是\n",
      "Re: [新聞] 「學姐」確定回鍋北市府 黃瀞瑩：最快2\n",
      "[公告] 八卦板板規(2019.08.21)\n",
      "[協尋] 台灣大道 民權路口車禍\n",
      "[協尋］1/18早上8:40承德路六段車禍\n",
      "[協尋] 行車紀錄器 仁武仁林路跟新庄路口\n",
      "[公告] 赤鴻飛羽，一月份置底閒聊文\n"
     ]
    }
   ],
   "source": [
    "import requests\n",
    "from bs4 import BeautifulSoup\n",
    "\n",
    "url = 'https://www.ptt.cc/bbs/Gossiping/index.html'\n",
    "r = requests.get(url, cookies={'over18': '1'})\n",
    "\n",
    "soup = BeautifulSoup(r.text, \"html5lib\")\n",
    "\n",
    "\n",
    "for d in soup.find_all(class_=\"title\"):\n",
    "    print(d.text.replace('\\t', '').replace('\\n', ''))\n",
    "    try:\n",
    "        r = BeautifulSoup(requests.get('https://www.ptt.cc'+d.find('a')['href']).text, \"html5lib\")\n",
    "        print('作者： ' + r.find(class_='article-meta-value').text)\n",
    "        print('時間： ' + r.find_all(class_='article-meta-value')[-1].text)\n",
    "\n",
    "    except:\n",
    "        continue\n",
    "\n"
   ]
  },
  {
   "cell_type": "code",
   "execution_count": 80,
   "metadata": {},
   "outputs": [
    {
     "name": "stdout",
     "output_type": "stream",
     "text": [
      "{'標題': '[新聞] 暴龍團隊攻勢均衡 力壓76人奪5連勝', '作者': 'phoenix286 (糰子大家族)', '時間': 'Thu Jan 23 12:42:59 2020'}\n"
     ]
    }
   ],
   "source": [
    "posts = []\n",
    "\n",
    "import requests\n",
    "from bs4 import BeautifulSoup\n",
    "\n",
    "url = 'https://www.ptt.cc/bbs/NBA/index.html'\n",
    "r = requests.get(url, cookies={'over18': '1'})\n",
    "\n",
    "\n",
    "soup = BeautifulSoup(r.text, \"html5lib\")\n",
    "\n",
    "for d in soup.find_all(class_=\"title\"):\n",
    "    try :\n",
    "        post = {}\n",
    "        post['標題']  = d.text.replace('\\t', '').replace('\\n', '')\n",
    "        r = BeautifulSoup(requests.get('https://www.ptt.cc'+d.find('a')['href']).text, \"html5lib\")\n",
    "        post['作者']  = r.find(class_='article-meta-value').text\n",
    "        post['時間'] = datetime.strptime(post['時間'], \"%a %b %d %H:%M:%S %Y\")\n",
    "\n",
    "        posts.append(post)\n",
    "    except:\n",
    "        continue\n",
    "        \n",
    "post = sorted(posts , key = lambda post : post['時間'] , reverse = True)\n",
    "\n",
    "print(posts[0])\n",
    "\n",
    "\n"
   ]
  },
  {
   "cell_type": "code",
   "execution_count": null,
   "metadata": {},
   "outputs": [],
   "source": []
  }
 ],
 "metadata": {
  "kernelspec": {
   "display_name": "Python 3",
   "language": "python",
   "name": "python3"
  },
  "language_info": {
   "codemirror_mode": {
    "name": "ipython",
    "version": 3
   },
   "file_extension": ".py",
   "mimetype": "text/x-python",
   "name": "python",
   "nbconvert_exporter": "python",
   "pygments_lexer": "ipython3",
   "version": "3.7.4"
  }
 },
 "nbformat": 4,
 "nbformat_minor": 2
}
