{
 "cells": [
  {
   "cell_type": "markdown",
   "metadata": {},
   "source": [
    "# HTTP 動態網頁架構說明\n",
    "\n",
    "\n",
    "* 了解動態網頁的資料爬蟲策略\n",
    "* 知道非同步網頁載入機制（Ajax）\n",
    "* 學習兩種對應動態網頁爬蟲的的策略\n"
   ]
  },
  {
   "cell_type": "markdown",
   "metadata": {},
   "source": [
    "## 作業目標\n",
    "\n",
    "回答以下問題：\n",
    "\n",
    "1. 動態網頁跟靜態網頁的差別是什麼？原本靜態網頁的做法會產生什麼問題或是缺點？\n",
    "2. 還記得我們在 ETTODAY 靜態爬蟲實作練習中，有請大家完成一個題目「取出今天所有的發文」，但仔細看其實並沒有真的把當天所有的新聞都抓回來， 試著回答看看原因是什麼？及該如何檢查？\n"
   ]
  },
  {
   "cell_type": "markdown",
   "metadata": {},
   "source": [
    "### 1. 動態網頁跟靜態網頁的差別是什麼？原本靜態網頁的做法會產生什麼問題或是缺點？"
   ]
  },
  {
   "cell_type": "code",
   "execution_count": 2,
   "metadata": {},
   "outputs": [
    {
     "data": {
      "text/plain": [
       "'\\n動態網頁架構動態網⾴有別於靜態網頁產⽣資料的⽅式。\\n靜態網頁是透過每一次使用者請求，後端會產生⼀次網頁回傳，所以請求與回傳是一對一的，有些人把他們稱為同步。\\n在動態網頁的話，是透過 Ajax 的技術，來完成非同步的資料傳輸。\\n換句話說，就是在網頁上，任何時間點都可以發送請求給後端，後端只回傳資料，⽽不是回傳整個網頁。'"
      ]
     },
     "execution_count": 2,
     "metadata": {},
     "output_type": "execute_result"
    }
   ],
   "source": [
    "'''\n",
    "動態網頁架構動態網⾴有別於靜態網頁產⽣資料的⽅式。\n",
    "靜態網頁是透過每一次使用者請求，後端會產生⼀次網頁回傳，所以請求與回傳是一對一的，有些人把他們稱為同步。\n",
    "在動態網頁的話，是透過 Ajax 的技術，來完成非同步的資料傳輸。\n",
    "換句話說，就是在網頁上，任何時間點都可以發送請求給後端，後端只回傳資料，⽽不是回傳整個網頁。'''\n"
   ]
  },
  {
   "cell_type": "markdown",
   "metadata": {},
   "source": [
    "### 2. 還記得我們在 ETTODAY 靜態爬蟲實作練習中，有請大家完成一個題目「取出今天所有的發文」，但仔細看其實並沒有真的把當天所有的新聞都抓回來， 試著回答看看原因是什麼？及該如何檢查？"
   ]
  },
  {
   "cell_type": "code",
   "execution_count": 3,
   "metadata": {},
   "outputs": [
    {
     "data": {
      "text/plain": [
       "'\\n因為當次練習中僅抓取畫面中的新聞，並未包含到整天的所有發文\\n\\n\\n使用網站會發現，往下捲的時候可以取得更多的資料。\\n像這種利用使用者互動，才執行程式取得資料的行為是由 JavaScript 執行的。\\n因此透過 Python 執行爬蟲的過程中，並沒有執行到 JavaScript 這一段，因此無法取得資料。\\n更嚴謹的檢查可以把瀏覽器的 JavaScript 關閉，會發現無法往下載入更多資料，證明這個動作真的是由 JavaScript 在瀏覽器上運行的。\\n'"
      ]
     },
     "execution_count": 3,
     "metadata": {},
     "output_type": "execute_result"
    }
   ],
   "source": [
    "'''\n",
    "因為當次練習中僅抓取畫面中的新聞，並未包含到整天的所有發文\n",
    "\n",
    "\n",
    "使用網站會發現，往下捲的時候可以取得更多的資料。\n",
    "像這種利用使用者互動，才執行程式取得資料的行為是由 JavaScript 執行的。\n",
    "因此透過 Python 執行爬蟲的過程中，並沒有執行到 JavaScript 這一段，因此無法取得資料。\n",
    "更嚴謹的檢查可以把瀏覽器的 JavaScript 關閉，會發現無法往下載入更多資料，證明這個動作真的是由 JavaScript 在瀏覽器上運行的。\n",
    "'''"
   ]
  },
  {
   "cell_type": "code",
   "execution_count": null,
   "metadata": {},
   "outputs": [],
   "source": []
  },
  {
   "cell_type": "code",
   "execution_count": null,
   "metadata": {},
   "outputs": [],
   "source": []
  }
 ],
 "metadata": {
  "kernelspec": {
   "display_name": "Python 3",
   "language": "python",
   "name": "python3"
  },
  "language_info": {
   "codemirror_mode": {
    "name": "ipython",
    "version": 3
   },
   "file_extension": ".py",
   "mimetype": "text/x-python",
   "name": "python",
   "nbconvert_exporter": "python",
   "pygments_lexer": "ipython3",
   "version": "3.7.4"
  }
 },
 "nbformat": 4,
 "nbformat_minor": 2
}
