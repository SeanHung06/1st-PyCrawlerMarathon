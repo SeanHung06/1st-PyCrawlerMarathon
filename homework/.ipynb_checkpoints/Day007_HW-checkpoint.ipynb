{
 "cells": [
  {
   "cell_type": "code",
   "execution_count": 1,
   "metadata": {},
   "outputs": [],
   "source": [
    "#1. （簡答題）請問目前提到的這種基於 HTTP 一來一回的網頁傳輸方式，有哪些缺點及問題？\n",
    "\n",
    "#當HTTP伺服器端在處理請求時，整個TCP連線其實處於一個閒置的情況，客戶端所能做的事也只有等待，會有效率比較差的問題。\n",
    "\n"
   ]
  },
  {
   "cell_type": "code",
   "execution_count": 2,
   "metadata": {},
   "outputs": [],
   "source": [
    "#2. （簡答題）第 16 頁所使用的 JavaScipt 程式語言，跟我們一般使用的 Python 在執行上有什麼不同。\n",
    "#Javascript的物件導向是基於原型（prototype）的，\n",
    "#物件的繼承是由原型（也是物件）建立出來的，由原型物件建立出來的物件繼承了原型鏈上的方法。\n",
    "#而Python則是中規中矩的基於類（class）的繼承，並天然的支援多型（polymophine)。"
   ]
  },
  {
   "cell_type": "code",
   "execution_count": null,
   "metadata": {},
   "outputs": [],
   "source": []
  }
 ],
 "metadata": {
  "kernelspec": {
   "display_name": "Python 3",
   "language": "python",
   "name": "python3"
  },
  "language_info": {
   "codemirror_mode": {
    "name": "ipython",
    "version": 3
   },
   "file_extension": ".py",
   "mimetype": "text/x-python",
   "name": "python",
   "nbconvert_exporter": "python",
   "pygments_lexer": "ipython3",
   "version": "3.7.4"
  }
 },
 "nbformat": 4,
 "nbformat_minor": 2
}
