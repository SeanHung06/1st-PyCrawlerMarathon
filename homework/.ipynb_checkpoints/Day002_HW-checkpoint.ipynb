{
 "cells": [
  {
   "cell_type": "code",
   "execution_count": 4,
   "metadata": {},
   "outputs": [
    {
     "data": {
      "text/plain": [
       "('./data/bus.csv', <http.client.HTTPMessage at 0x10f678310>)"
      ]
     },
     "execution_count": 4,
     "metadata": {},
     "output_type": "execute_result"
    }
   ],
   "source": [
    "import urllib.request\n",
    "\n",
    "res = \"http://opendata.hccg.gov.tw/dataset/432257df-491f-4875-8b56-dd814aee5d7b/resource/de014c8b-9b75-4152-9fc6-f0d499cefbe4/download/20150305140446074.csv\"\n",
    "urllib.request.urlretrieve(res, './data/bus.csv')"
   ]
  },
  {
   "cell_type": "code",
   "execution_count": 46,
   "metadata": {},
   "outputs": [
    {
     "name": "stdout",
     "output_type": "stream",
     "text": [
      "6\n",
      "班次1\n",
      "06:30\n",
      "06:32\n",
      "06:33\n",
      "06:34\n",
      "06:36\n",
      "06:38\n",
      "06:39\n",
      "06:41\n",
      "06:42\n",
      "06:43\n",
      "06:44\n",
      "06:45\n",
      "06:46\n",
      "06:47\n",
      "06:48\n",
      "06:49\n",
      "06:50\n",
      "06:51\n",
      "06:53\n",
      "06:55\n",
      "06:57\n",
      "06:58\n",
      "07:00\n",
      "07:01\n",
      "07:03\n",
      "07:05\n",
      "07:07\n",
      "07:09\n",
      "07:10\n",
      "07:12\n",
      "07:14\n",
      "07:16\n",
      "07:18\n",
      "07:20\n",
      "07:21\n",
      "07:23\n",
      "07:24\n",
      "07:25\n",
      "07:00\n",
      "07:02\n",
      "07:03\n",
      "07:04\n",
      "07:06\n",
      "07:08\n",
      "07:09\n",
      "07:11\n",
      "07:12\n",
      "07:13\n",
      "07:14\n",
      "07:15\n",
      "07:16\n",
      "07:17\n",
      "07:18\n",
      "07:19\n",
      "07:20\n",
      "07:21\n",
      "07:23\n",
      "07:25\n",
      "07:27\n",
      "07:28\n",
      "07:30\n",
      "07:31\n",
      "07:33\n",
      "07:35\n",
      "07:37\n",
      "07:39\n",
      "07:40\n",
      "07:42\n",
      "07:44\n",
      "07:46\n",
      "07:48\n",
      "07:49\n",
      "07:51\n",
      "07:53\n",
      "07:54\n",
      "07:55\n"
     ]
    }
   ],
   "source": [
    "import csv\n",
    "# 開啟 CSV 檔案\n",
    "search = '班次1'\n",
    "bus_line = 0 \n",
    "with open('./data/bus.csv', newline='') as csvfile:\n",
    "    rows = csv.reader(csvfile)\n",
    "    for row in rows:\n",
    "        for field in row:\n",
    "            bus_line+=1\n",
    "            if field == search:\n",
    "                bus1 = bus_line\n",
    "                print(bus_line)\n",
    "                list = \n",
    "        print(row[bus1-1])"
   ]
  },
  {
   "cell_type": "code",
   "execution_count": null,
   "metadata": {},
   "outputs": [],
   "source": []
  },
  {
   "cell_type": "code",
   "execution_count": null,
   "metadata": {},
   "outputs": [],
   "source": []
  }
 ],
 "metadata": {
  "kernelspec": {
   "display_name": "Python 3",
   "language": "python",
   "name": "python3"
  },
  "language_info": {
   "codemirror_mode": {
    "name": "ipython",
    "version": 3
   },
   "file_extension": ".py",
   "mimetype": "text/x-python",
   "name": "python",
   "nbconvert_exporter": "python",
   "pygments_lexer": "ipython3",
   "version": "3.7.4"
  }
 },
 "nbformat": 4,
 "nbformat_minor": 2
}
