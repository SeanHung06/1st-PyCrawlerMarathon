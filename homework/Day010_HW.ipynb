{
 "cells": [
  {
   "cell_type": "markdown",
   "metadata": {},
   "source": [
    "# 其他工具：Grab、PyQuery\n",
    "\n",
    "\n",
    "* 利用 Grab 套件的存取 HTML 資源\n",
    "* 利用 PyQuery 套件的解析 HTML 格式\n"
   ]
  },
  {
   "cell_type": "markdown",
   "metadata": {},
   "source": [
    "## 作業目標\n",
    "\n",
    "將之前用 requests + beatifulsoup 實作的方式，改寫成 grab + pyquery，並且比較有哪些地方不同。\n"
   ]
  },
  {
   "cell_type": "markdown",
   "metadata": {},
   "source": [
    "## requests + BeautifulSoup\n"
   ]
  },
  {
   "cell_type": "code",
   "execution_count": 14,
   "metadata": {},
   "outputs": [
    {
     "name": "stdout",
     "output_type": "stream",
     "text": [
      "<!DOCTYPE html><html lang=\"zh-Hant-TW\"><head prefix=\"og: http://ogp.me/ns#\" itemscope=\"\" itemType=\"https://schema.org/WebSite\"><title data-react-helmet=\"true\">Dcard</title><meta data-react-helmet=\"true\" property=\"og:image\" content=\"https://www.dcard.tw/build/landing-c9e7b8fb.png\"/><meta data-react-helmet=\"true\" property=\"og:image:secure_url\" content=\"https://www.dcard.tw/build/landing-c9e7b8fb.png\"/><meta data-react-helmet=\"true\" charSet=\"utf-8\"/><meta data-react-helmet=\"true\" http-equiv=\"X-UA-Compatible\" content=\"IE=edge\"/><meta data-react-helmet=\"true\" name=\"application-name\" content=\"Dcard\"/><meta data-react-helmet=\"true\" name=\"apple-itunes-app\" content=\"app-id=951353454\"/><meta data-react-helmet=\"true\" name=\"theme-color\" content=\"#006aa6\"/><meta data-react-helmet=\"true\" name=\"mobile-web-app-capable\" content=\"yes\"/><meta data-react-helmet=\"true\" name=\"apple-mobile-web-app-capable\" content=\"yes\"/><meta data-react-helmet=\"true\" property=\"fb:app_id\" content=\"211628828926493\"/><meta data-react-helmet=\"true\" property=\"fb:pages\" content=\"178875832200695,577748865730563,1333515469994506,619122564952487,804004803032067,178024805867764\"/><meta data-react-helmet=\"true\" property=\"al:ios:app_store_id\" content=\"951353454\"/><meta data-react-helmet=\"true\" property=\"al:ios:app_name\" content=\"Dcard\"/><meta data-react-helmet=\"true\" property=\"al:android:package\" content=\"com.sparkslab.dcardreader\"/><meta data-react-helmet=\"true\" property=\"al:android:app_name\" content=\"Dcard\"/><meta data-react-helmet=\"true\" property=\"og:type\" content=\"website\"/><meta data-react-helmet=\"true\" property=\"og:site_name\" content=\"Dcard\"/><meta data-react-helmet=\"true\" property=\"og:title\" content=\"Dcard\"/><meta data-react-helmet=\"true\" property=\"og:url\" content=\"https://www.dcard.tw/f\"/><meta data-react-helmet=\"true\" name=\"description\" content=\"廣受年輕人喜愛的  Dcard  是台灣最大的匿名交流平台，舉凡時事話題、感情心情、吃喝玩樂、學習工作等，都有卡友陪你聊！\"/><meta data-react-helmet=\"true\" property=\"og:description\" content=\"廣受年輕人喜愛的  Dcard  是台灣最大的匿名交流平台，舉凡時事話題、感情心情、吃喝玩樂、學習工作等，都有卡友陪你聊！\"/><meta data-react-helmet=\"true\" property=\"al:ios:url\" content=\"dcard://category/all/全部/hot\"/><meta data-react-helmet=\"true\" property=\"al:android:url\" content=\"dcard://category/all/全部/hot\"/><link data-react-helmet=\"true\" rel=\"icon\" sizes=\"32x32\" type=\"image/png\" href=\"/build/favicon_32-44259074.png\"/><link data-react-helmet=\"true\" rel=\"icon\" sizes=\"72x72\" type=\"image/png\" href=\"/build/favicon_72-45b1e0ba.png\"/><link data-react-helmet=\"true\" rel=\"icon\" sizes=\"512x512\" type=\"image/png\" href=\"/build/favicon_512-8aee0703.png\"/><link data-react-helmet=\"true\" rel=\"apple-touch-icon-precomposed\" href=\"/build/favicon_144-79557003.png\"/><link data-react-helmet=\"true\" rel=\"apple-touch-icon-precomposed\" href=\"/build/favicon_114-4a463b43.png\"/><link data-react-helmet=\"true\" rel=\"apple-touch-icon-precomposed\" href=\"/build/favicon_72-45b1e0ba.png\"/><link data-react-helmet=\"true\" rel=\"apple-touch-icon-precomposed\" href=\"/build/favicon_57-835f1693.png\"/><link data-react-helm\n"
     ]
    }
   ],
   "source": [
    "import requests\n",
    "from bs4 import BeautifulSoup\n",
    "\n",
    "url = 'https://www.dcard.tw/f'\n",
    "\n",
    "r = requests.get(url)\n",
    "\n",
    "r.encoding = 'utf-8'\n",
    "print(r.text[0:3000])"
   ]
  },
  {
   "cell_type": "markdown",
   "metadata": {},
   "source": [
    "## Grab + PyQuery"
   ]
  },
  {
   "cell_type": "code",
   "execution_count": 9,
   "metadata": {
    "scrolled": true
   },
   "outputs": [
    {
     "name": "stdout",
     "output_type": "stream",
     "text": [
      "Collecting grab\n",
      "Collecting defusedxml (from grab)\n",
      "  Using cached https://files.pythonhosted.org/packages/06/74/9b387472866358ebc08732de3da6dc48e44b0aacd2ddaa5cb85ab7e986a2/defusedxml-0.6.0-py2.py3-none-any.whl\n",
      "Collecting six (from grab)\n",
      "  Downloading https://files.pythonhosted.org/packages/65/eb/1f97cb97bfc2390a276969c6fae16075da282f5058082d4cb10c6c5c1dba/six-1.14.0-py2.py3-none-any.whl\n",
      "Collecting weblib>=0.1.28 (from grab)\n",
      "Collecting pycurl<7.43.0.2; platform_system != \"Windows\" (from grab)\n",
      "Collecting lxml; platform_system != \"Windows\" (from grab)\n",
      "\u001b[?25l  Downloading https://files.pythonhosted.org/packages/08/7f/981b9f4dc4f1926f9cbacbf61cba0f93ac7f466eeb62c0221b299fc5fe4f/lxml-4.4.2-cp37-cp37m-macosx_10_6_intel.macosx_10_9_intel.macosx_10_9_x86_64.macosx_10_10_intel.macosx_10_10_x86_64.whl (8.8MB)\n",
      "\u001b[K     |████████████████████████████████| 8.8MB 103kB/s eta 0:00:01     |████████████████▊               | 4.6MB 113kB/s eta 0:00:38     |███████████████████▋            | 5.4MB 93kB/s eta 0:00:37\n",
      "\u001b[?25hCollecting user-agent (from grab)\n",
      "Collecting selection (from grab)\n",
      "Collecting pytils (from weblib>=0.1.28->grab)\n",
      "\u001b[31mERROR: astroid 2.3.1 requires typed-ast<1.5,>=1.4.0; implementation_name == \"cpython\" and python_version < \"3.8\", which is not installed.\u001b[0m\n",
      "\u001b[31mERROR: astroid 2.3.1 has requirement six==1.12, but you'll have six 1.14.0 which is incompatible.\u001b[0m\n",
      "Installing collected packages: defusedxml, six, user-agent, pytils, weblib, pycurl, lxml, selection, grab\n",
      "Successfully installed defusedxml-0.6.0 grab-0.6.41 lxml-4.4.2 pycurl-7.43.0.3 pytils-0.3 selection-0.0.14 six-1.14.0 user-agent-0.1.9 weblib-0.1.30\n"
     ]
    }
   ],
   "source": [
    "!pip install -U grab --ignore-installed"
   ]
  },
  {
   "cell_type": "code",
   "execution_count": 17,
   "metadata": {},
   "outputs": [
    {
     "data": {
      "text/plain": [
       "b'<!DOCTYPE html><html lang=\"zh-Hant-TW\"><head prefix=\"og: http://ogp.me/ns#\" itemscope=\"\" itemType=\"https://schema.org/WebSite\"><title data-react-helmet=\"true\">Dcard</title><meta data-react-helmet=\"true\" property=\"og:image\" content=\"https://www.dcard.tw/build/landing-c9e7b8fb.png\"/><meta data-react-helmet=\"true\" property=\"og:image:secure_url\" content=\"https://www.dcard.tw/build/landing-c9e7b8fb.png\"/><meta data-react-helmet=\"true\" charSet=\"utf-8\"/><meta data-react-helmet=\"true\" http-equiv=\"X-UA-Compatible\" content=\"IE=edge\"/><meta data-react-helmet=\"true\" name=\"application-name\" content=\"Dcard\"/><meta data-react-helmet=\"true\" name=\"apple-itunes-app\" content=\"app-id=951353454\"/><meta data-react-helmet=\"true\" name=\"theme-color\" content=\"#006aa6\"/><meta data-react-helmet=\"true\" name=\"mobile-web-app-capable\" content=\"yes\"/><meta data-react-helmet=\"true\" name=\"apple-mobile-web-app-capable\" content=\"yes\"/><meta data-react-helmet=\"true\" property=\"fb:app_id\" content=\"211628828926493\"/><meta data-react-helmet=\"true\" property=\"fb:pages\" content=\"178875832200695,577748865730563,1333515469994506,619122564952487,804004803032067,178024805867764\"/><meta data-react-helmet=\"true\" property=\"al:ios:app_store_id\" content=\"951353454\"/><meta data-react-helmet=\"true\" property=\"al:ios:app_name\" content=\"Dcard\"/><meta data-react-helmet=\"true\" property=\"al:android:package\" content=\"com.sparkslab.dcardreader\"/><meta data-react-helmet=\"true\" property=\"al:android:app_name\" content=\"Dcard\"/><meta data-react-helmet=\"true\" property=\"og:type\" content=\"website\"/><meta data-react-helmet=\"true\" property=\"og:site_name\" content=\"Dcard\"/><meta data-react-helmet=\"true\" property=\"og:title\" content=\"Dcard\"/><meta data-react-helmet=\"true\" property=\"og:url\" content=\"https://www.dcard.tw/f\"/><meta data-react-helmet=\"true\" name=\"description\" content=\"\\xe5\\xbb\\xa3\\xe5\\x8f\\x97\\xe5\\xb9\\xb4\\xe8\\xbc\\x95\\xe4\\xba\\xba\\xe5\\x96\\x9c\\xe6\\x84\\x9b\\xe7\\x9a\\x84  Dcard  \\xe6\\x98\\xaf\\xe5\\x8f\\xb0\\xe7\\x81\\xa3\\xe6\\x9c\\x80\\xe5\\xa4\\xa7\\xe7\\x9a\\x84\\xe5\\x8c\\xbf\\xe5\\x90\\x8d\\xe4\\xba\\xa4\\xe6\\xb5\\x81\\xe5\\xb9\\xb3\\xe5\\x8f\\xb0\\xef\\xbc\\x8c\\xe8\\x88\\x89\\xe5\\x87\\xa1\\xe6\\x99\\x82\\xe4\\xba\\x8b\\xe8\\xa9\\xb1\\xe9\\xa1\\x8c\\xe3\\x80\\x81\\xe6\\x84\\x9f\\xe6\\x83\\x85\\xe5\\xbf\\x83\\xe6\\x83\\x85\\xe3\\x80\\x81\\xe5\\x90\\x83\\xe5\\x96\\x9d\\xe7\\x8e\\xa9\\xe6\\xa8\\x82\\xe3\\x80\\x81\\xe5\\xad\\xb8\\xe7\\xbf\\x92\\xe5\\xb7\\xa5\\xe4\\xbd\\x9c\\xe7\\xad\\x89\\xef\\xbc\\x8c\\xe9\\x83\\xbd\\xe6\\x9c\\x89\\xe5\\x8d\\xa1\\xe5\\x8f\\x8b\\xe9\\x99\\xaa\\xe4\\xbd\\xa0\\xe8\\x81\\x8a\\xef\\xbc\\x81\"/><meta data-react-helmet=\"true\" property=\"og:description\" content=\"\\xe5\\xbb\\xa3\\xe5\\x8f\\x97\\xe5\\xb9\\xb4\\xe8\\xbc\\x95\\xe4\\xba\\xba\\xe5\\x96\\x9c\\xe6\\x84\\x9b\\xe7\\x9a\\x84  Dcard  \\xe6\\x98\\xaf\\xe5\\x8f\\xb0\\xe7\\x81\\xa3\\xe6\\x9c\\x80\\xe5\\xa4\\xa7\\xe7\\x9a\\x84\\xe5\\x8c\\xbf\\xe5\\x90\\x8d\\xe4\\xba\\xa4\\xe6\\xb5\\x81\\xe5\\xb9\\xb3\\xe5\\x8f\\xb0\\xef\\xbc\\x8c\\xe8\\x88\\x89\\xe5\\x87\\xa1\\xe6\\x99\\x82\\xe4\\xba\\x8b\\xe8\\xa9\\xb1\\xe9\\xa1\\x8c\\xe3\\x80\\x81\\xe6\\x84\\x9f\\xe6\\x83\\x85\\xe5\\xbf\\x83\\xe6\\x83\\x85\\xe3\\x80\\x81\\xe5\\x90\\x83\\xe5\\x96\\x9d\\xe7\\x8e\\xa9\\xe6\\xa8\\x82\\xe3\\x80\\x81\\xe5\\xad\\xb8\\xe7\\xbf\\x92\\xe5\\xb7\\xa5\\xe4\\xbd\\x9c\\xe7\\xad\\x89\\xef\\xbc\\x8c\\xe9\\x83\\xbd\\xe6\\x9c\\x89\\xe5\\x8d\\xa1\\xe5\\x8f\\x8b\\xe9\\x99\\xaa\\xe4\\xbd\\xa0\\xe8\\x81\\x8a\\xef\\xbc\\x81\"/><meta data-react-helmet=\"true\" property=\"al:ios:url\" content=\"dcard://category/all/\\xe5\\x85\\xa8\\xe9\\x83\\xa8/hot\"/><meta data-react-helmet=\"true\" property=\"al:android:url\" content=\"dcard://category/all/\\xe5\\x85\\xa8\\xe9\\x83\\xa8/hot\"/><link data-react-helmet=\"true\" rel=\"icon\" sizes=\"32x32\" type=\"image/png\" href=\"/build/favicon_32-44259074.png\"/><link data-react-helmet=\"true\" rel=\"icon\" sizes=\"72x72\" type=\"image/png\" href=\"/build/favicon_72-45b1e0ba.png\"/><link data-react-helmet=\"true\" rel=\"icon\" sizes=\"512x512\" type=\"image/png\" href=\"/build/favicon_512-8aee0703.png\"/><link data-react-helmet=\"true\" rel=\"apple-touch-icon-precomposed\" href=\"/build/favicon_144-79557003.png\"/><link data-react-helmet=\"true\" rel=\"apple-touch-icon-precomposed\" href=\"/build/favicon_114-4a463b43.png\"/><link data-reac'"
      ]
     },
     "execution_count": 17,
     "metadata": {},
     "output_type": "execute_result"
    }
   ],
   "source": [
    "import logging\n",
    "\n",
    "from grab import Grab\n",
    "g = Grab()\n",
    "resp = g.go('https://www.dcard.tw/f')\n",
    "resp.body[0:3000]\n",
    "\n",
    "\n",
    "\n",
    "\n",
    "\n",
    "\n"
   ]
  },
  {
   "cell_type": "code",
   "execution_count": 16,
   "metadata": {},
   "outputs": [
    {
     "name": "stdout",
     "output_type": "stream",
     "text": [
      "<class 'pyquery.pyquery.PyQuery'> Dcard\n"
     ]
    }
   ],
   "source": [
    "from pyquery import PyQuery as pq\n",
    "doc = pq(resp.body)\n",
    "title = doc('title')\n",
    "print(type(title), title.text())"
   ]
  },
  {
   "cell_type": "code",
   "execution_count": null,
   "metadata": {},
   "outputs": [],
   "source": []
  }
 ],
 "metadata": {
  "kernelspec": {
   "display_name": "Python 3",
   "language": "python",
   "name": "python3"
  },
  "language_info": {
   "codemirror_mode": {
    "name": "ipython",
    "version": 3
   },
   "file_extension": ".py",
   "mimetype": "text/x-python",
   "name": "python",
   "nbconvert_exporter": "python",
   "pygments_lexer": "ipython3",
   "version": "3.7.4"
  }
 },
 "nbformat": 4,
 "nbformat_minor": 2
}
